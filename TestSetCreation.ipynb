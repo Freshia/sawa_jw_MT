{
 "cells": [
  {
   "cell_type": "markdown",
   "metadata": {},
   "source": [
    "Extracting data from SAWA CSV\n"
   ]
  },
  {
   "cell_type": "code",
   "execution_count": null,
   "metadata": {},
   "outputs": [],
   "source": [
    "import os\n",
    "import csv\n",
    "import random\n",
    "lines = list()\n",
    "eng_lines = list()\n",
    "swa_lines = list()\n",
    "eng_lines_2 = list()\n",
    "swa_lines_2 = list()"
   ]
  },
  {
   "cell_type": "markdown",
   "metadata": {},
   "source": [
    "Loading the corpus and saving the lines"
   ]
  },
  {
   "cell_type": "code",
   "execution_count": null,
   "metadata": {},
   "outputs": [],
   "source": [
    "with open('sawa_corpus.csv', 'r', encoding = \"ISO-8859-1\") as readFile:\n",
    "\n",
    "    reader = csv.DictReader(readFile)\n",
    "    print(reader.fieldnames)\n",
    "    for row in reader:\n",
    "\n",
    "        lines.append(row)\n",
    "        eng_lines.append(row[\"'Source_language'\"])\n",
    "        swa_lines.append(row[\"'Target_language'\"])\n",
    "\n",
    "print(len(lines))\n",
    "print(len(eng_lines))\n",
    "print(len(swa_lines))"
   ]
  },
  {
   "cell_type": "markdown",
   "metadata": {},
   "source": [
    "Selecting 1000 random lines from the corpus to be used as test set"
   ]
  },
  {
   "cell_type": "code",
   "execution_count": null,
   "metadata": {},
   "outputs": [],
   "source": [
    "for i in range(1000):\n",
    "    pos = random.randint(0,len(lines))\n",
    "    eng_lines_2.append(eng_lines[pos])\n",
    "    swa_lines_2.append(swa_lines[pos])\n",
    "    del lines[pos]\n",
    "    print(pos)\n"
   ]
  },
  {
   "cell_type": "markdown",
   "metadata": {},
   "source": [
    "Writing new csv file without the test sentences, then writing the test files"
   ]
  },
  {
   "cell_type": "code",
   "execution_count": null,
   "metadata": {},
   "outputs": [],
   "source": [
    "\n",
    "with open('sawa_corpus_train.csv', 'w') as writeFile:\n",
    "\n",
    "    writer = csv.writer(writeFile)\n",
    "\n",
    "    writer.writerows(lines)\n",
    "\n",
    "with open(\"eng.en\", \"w\") as txt_file:\n",
    "    for line in eng_lines_2:\n",
    "        txt_file.write(\" \".join(line) + \"\\n\") \n",
    "with open(\"swa.sw\", \"w\") as txt_file:\n",
    "    for line in swa_lines_2:\n",
    "        txt_file.write(\" \".join(line) + \"\\n\") "
   ]
  },
  {
   "cell_type": "markdown",
   "metadata": {},
   "source": [
    "Stripping blank lines from the test sets"
   ]
  },
  {
   "cell_type": "code",
   "execution_count": null,
   "metadata": {},
   "outputs": [],
   "source": [
    "with open('./eng.en') as infile, open('eng2.en', 'w') as outfile:\n",
    "    for line in infile:\n",
    "        if not line.strip(): continue  # skip the empty line\n",
    "        outfile.write(line)\n",
    "\n",
    "with open('./swa.sw') as infile, open('swa2.sw', 'w') as outfile:\n",
    "    for line in infile:\n",
    "        if not line.strip(): continue  # skip the empty line\n",
    "        outfile.write(line)  # non-empty line. Write it to output"
   ]
  },
  {
   "cell_type": "markdown",
   "metadata": {},
   "source": [
    "Checking number of lines in the test files"
   ]
  },
  {
   "cell_type": "code",
   "execution_count": 6,
   "metadata": {},
   "outputs": [
    {
     "name": "stdout",
     "output_type": "stream",
     "text": [
      "./testdata/test2.en\n",
      "3000\n",
      "r i c e   p l a n t \n",
      "\n",
      "i n s i d e s \n",
      "\n",
      "w h i t e b r e a s t e d   c o r m o r a n t \n",
      "\n",
      "m i c r o c r e d i t   l o a n s \n",
      "\n",
      "./testdata/test2.sw\n",
      "3000\n",
      "m p u n g a \n",
      "\n",
      "v i i n i \n",
      "\n",
      "m n a n d i   k i d a r i c h e u p e \n",
      "\n",
      "m i k o p o   m i d o g o   \n",
      "\n"
     ]
    }
   ],
   "source": [
    "\n",
    "import pandas as pd\n",
    "import os\n",
    "import glob\n",
    "import csv\n",
    "eng_split = []\n",
    "swa_split = []\n",
    "path = './testdata'\n",
    "\n",
    "\n",
    "for filename in glob.glob(os.path.join(path, \"test2.en\")):\n",
    "    print(filename)\n",
    "    with open(filename,'r',encoding=\"utf8\") as f:\n",
    "        for line in f:\n",
    "            eng_split.append(line)\n",
    "print(len(eng_split))\n",
    "print(eng_split[2500])\n",
    "print(eng_split[1700])\n",
    "print(eng_split[1800])\n",
    "print(eng_split[2650])\n",
    "\n",
    "for filename in glob.glob(os.path.join(path, \"test2.sw\")):\n",
    "    print(filename)\n",
    "    with open(filename,'r',encoding=\"utf8\") as f:\n",
    "        for line in f:\n",
    "            swa_split.append(line)\n",
    "print(len(swa_split))\n",
    "print(swa_split[2500])\n",
    "print(swa_split[1700])\n",
    "print(swa_split[1800])\n",
    "print(swa_split[2650])"
   ]
  },
  {
   "cell_type": "code",
   "execution_count": null,
   "metadata": {},
   "outputs": [],
   "source": [
    "Stripping blank lines from the test sets"
   ]
  },
  {
   "cell_type": "code",
   "execution_count": null,
   "metadata": {},
   "outputs": [],
   "source": [
    "with open('./eng.en') as infile, open('eng2.en', 'w') as outfile:\n",
    "    for line in infile:\n",
    "        if not line.strip(): continue  # skip the empty line\n",
    "        outfile.write(line)  # non-empty line. Write it to output\n",
    "\n",
    "with open('./swa.sw') as infile, open('swa2.sw', 'w') as outfile:\n",
    "    for line in infile:\n",
    "        if not line.strip(): continue  # skip the empty line\n",
    "        outfile.write(line)  # non-empty line. Write it to outp\n",
    "        "
   ]
  },
  {
   "cell_type": "markdown",
   "metadata": {},
   "source": [
    "Appending to initial test file"
   ]
  },
  {
   "cell_type": "code",
   "execution_count": 1,
   "metadata": {},
   "outputs": [
    {
     "data": {
      "text/plain": [
       "65476"
      ]
     },
     "execution_count": 1,
     "metadata": {},
     "output_type": "execute_result"
    }
   ],
   "source": [
    "f = open(\"./testdata/test2.en\", \"a+\")\n",
    "fin = open('eng.en', \"r\")\n",
    "eng1 = fin.read()\n",
    "fin = open('./testdata/test.en', \"r\")\n",
    "eng2 = fin.read()\n",
    "\n",
    "f.write(eng2)\n",
    "f.write(eng1)"
   ]
  },
  {
   "cell_type": "code",
   "execution_count": 2,
   "metadata": {},
   "outputs": [
    {
     "data": {
      "text/plain": [
       "59264"
      ]
     },
     "execution_count": 2,
     "metadata": {},
     "output_type": "execute_result"
    }
   ],
   "source": [
    "f = open(\"./testdata/test2.sw\", \"a+\")\n",
    "fin = open('swa.sw', \"r\")\n",
    "sw1 = fin.read()\n",
    "fin = open('./testdata/test.sw', \"r\")\n",
    "sw2 = fin.read()\n",
    "\n",
    "f.write(sw2)\n",
    "f.write(sw1)"
   ]
  },
  {
   "cell_type": "code",
   "execution_count": null,
   "metadata": {},
   "outputs": [],
   "source": []
  }
 ],
 "metadata": {
  "kernelspec": {
   "display_name": "Python 3",
   "language": "python",
   "name": "python3"
  },
  "language_info": {
   "codemirror_mode": {
    "name": "ipython",
    "version": 3
   },
   "file_extension": ".py",
   "mimetype": "text/x-python",
   "name": "python",
   "nbconvert_exporter": "python",
   "pygments_lexer": "ipython3",
   "version": "3.6.10"
  }
 },
 "nbformat": 4,
 "nbformat_minor": 4
}
